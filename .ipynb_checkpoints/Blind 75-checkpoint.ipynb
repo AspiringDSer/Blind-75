{
 "cells": [
  {
   "cell_type": "markdown",
   "id": "a13259b0",
   "metadata": {},
   "source": [
    "# Blind 75 Problems\n",
    "[Blind 75 Article](https://www.techinterviewhandbook.org/best-practice-questions/)\n",
    "\n",
    "[Python Tutor](https://pythontutor.com/visualize.html#mode=edit)"
   ]
  },
  {
   "cell_type": "markdown",
   "id": "9727d6e2",
   "metadata": {},
   "source": [
    "## Week 1 - Sequences"
   ]
  },
  {
   "cell_type": "code",
   "execution_count": null,
   "id": "de8ad9f5",
   "metadata": {},
   "outputs": [],
   "source": []
  },
  {
   "cell_type": "code",
   "execution_count": null,
   "id": "2c2a05f2",
   "metadata": {},
   "outputs": [],
   "source": []
  },
  {
   "cell_type": "code",
   "execution_count": null,
   "id": "8af57a0f",
   "metadata": {},
   "outputs": [],
   "source": []
  },
  {
   "cell_type": "markdown",
   "id": "cb8f89c0",
   "metadata": {},
   "source": [
    "## Week 2 - Data Structures "
   ]
  },
  {
   "cell_type": "markdown",
   "id": "98927366",
   "metadata": {},
   "source": [
    "[**153. Find Minimum in Rotated Sorted Array**](https://leetcode.com/problems/find-minimum-in-rotated-sorted-array/)\n",
    "\n",
    "[Neetcode](https://www.youtube.com/watch?v=nIVW4P8b1VA&t=4s&ab_channel=NeetCode)"
   ]
  },
  {
   "cell_type": "code",
   "execution_count": 1,
   "id": "864b9b05",
   "metadata": {},
   "outputs": [],
   "source": [
    "nums = [3,4,5,1,2]\n",
    "# Output: 1\n",
    "# Explanation: The original array was [1,2,3,4,5] rotated 3 times."
   ]
  },
  {
   "cell_type": "code",
   "execution_count": 2,
   "id": "74a2bdaf",
   "metadata": {},
   "outputs": [],
   "source": [
    "def findMin(nums):\n",
    "    \n",
    "    # left most of the array\n",
    "    result = nums[0]\n",
    "    \n",
    "    # pointers \n",
    "    #                          - 1 because index starts at 0 \n",
    "    left, right = 0, len(nums) - 1 \n",
    "    \n",
    "    while left <= right: \n",
    "        \n",
    "        # if subarray is already sorted (smallest to largest) -> left value is less than right value \n",
    "        if nums[left] < nums[right]:\n",
    "            result = min(result, nums[left])\n",
    "            break\n",
    "        \n",
    "        # find mid index\n",
    "        mid = (left + right) // 2\n",
    "        result = min(result, nums[mid])\n",
    "        \n",
    "        if nums[mid] >= nums[left]:\n",
    "            \n",
    "            left = mid + 1 \n",
    "            \n",
    "        else:\n",
    "            \n",
    "            right = mid - 1 \n",
    "            \n",
    "    return result"
   ]
  },
  {
   "cell_type": "code",
   "execution_count": 3,
   "id": "c03af07b",
   "metadata": {},
   "outputs": [
    {
     "data": {
      "text/plain": [
       "1"
      ]
     },
     "execution_count": 3,
     "metadata": {},
     "output_type": "execute_result"
    }
   ],
   "source": [
    "findMin(nums)"
   ]
  },
  {
   "cell_type": "code",
   "execution_count": null,
   "id": "5054d859",
   "metadata": {},
   "outputs": [],
   "source": []
  },
  {
   "cell_type": "code",
   "execution_count": null,
   "id": "470165fc",
   "metadata": {},
   "outputs": [],
   "source": []
  },
  {
   "cell_type": "code",
   "execution_count": null,
   "id": "3e324a84",
   "metadata": {},
   "outputs": [],
   "source": []
  },
  {
   "cell_type": "code",
   "execution_count": null,
   "id": "e4f924ce",
   "metadata": {},
   "outputs": [],
   "source": []
  },
  {
   "cell_type": "code",
   "execution_count": null,
   "id": "e6f285d1",
   "metadata": {},
   "outputs": [],
   "source": []
  }
 ],
 "metadata": {
  "hide_input": false,
  "kernelspec": {
   "display_name": "Python 3",
   "language": "python",
   "name": "python3"
  },
  "language_info": {
   "codemirror_mode": {
    "name": "ipython",
    "version": 3
   },
   "file_extension": ".py",
   "mimetype": "text/x-python",
   "name": "python",
   "nbconvert_exporter": "python",
   "pygments_lexer": "ipython3",
   "version": "3.8.8"
  }
 },
 "nbformat": 4,
 "nbformat_minor": 5
}
