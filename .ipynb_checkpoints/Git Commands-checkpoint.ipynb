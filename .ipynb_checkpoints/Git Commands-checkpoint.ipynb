{
 "cells": [
  {
   "cell_type": "markdown",
   "id": "9592afd9",
   "metadata": {},
   "source": [
    "# Git Commands \n",
    "\n",
    "### Setup \n",
    "**Note:** We are using `git clone` because its just a simpler setup process.  \n",
    "\n",
    "git clone git@github.com:AspiringDSer/Blind-75.git\n",
    "\n",
    "### Status\n",
    "**Note:** Shows any files that have not been commited. Files will be in red.  \n",
    "\n",
    "git status \n",
    "\n",
    "### Add Files \n",
    "**Note:** Git Upload Process -> Add Files -> Commit Files -> Push Files \n",
    "\n",
    "git add . \n",
    "\n",
    "### Commit Files\n",
    "**Note:** Please write a detailed commit comment\n",
    "\n",
    "git commit -m \"initial commit\"\n",
    "\n",
    "### Push Files\n",
    "**Note:** \"git push\" might not work for you because I made some changes to my git, a while ago, that allows me to use the short command. I forgot what I did to let me do that. =( \n",
    "\n",
    "git push \n",
    "\n",
    "### Update Files \n",
    "**Note:** Update folder before you work on the repo so there is no conflicts!!\n",
    "\n",
    "git pull"
   ]
  },
  {
   "cell_type": "code",
   "execution_count": null,
   "id": "1c0ca5f7",
   "metadata": {},
   "outputs": [],
   "source": []
  }
 ],
 "metadata": {
  "hide_input": false,
  "kernelspec": {
   "display_name": "Python 3",
   "language": "python",
   "name": "python3"
  },
  "language_info": {
   "codemirror_mode": {
    "name": "ipython",
    "version": 3
   },
   "file_extension": ".py",
   "mimetype": "text/x-python",
   "name": "python",
   "nbconvert_exporter": "python",
   "pygments_lexer": "ipython3",
   "version": "3.8.8"
  }
 },
 "nbformat": 4,
 "nbformat_minor": 5
}
